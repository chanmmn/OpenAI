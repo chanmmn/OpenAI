{
 "cells": [
  {
   "cell_type": "code",
   "execution_count": 2,
   "id": "46b2fb28",
   "metadata": {},
   "outputs": [
    {
     "name": "stdout",
     "output_type": "stream",
     "text": [
      "Ahoy Mateys! Avast ye landlubbers! Listen up and hear ye me out about the ChatGPT API. It be a treasure trove, a bounty of talkin' features that ye can integrate into yer websites and apps!\n",
      "\n",
      "With this fine API, ye can create conversations as smooth as a calm sea. Ye can add chatbots that'll make yer customers feel like they're talkin' to a real pirate, arrr! It be easy to use, too. Just sail on over to the ChatGPT API website, sign up, and ye're ready to start talkin' like a true buccaneer!\n",
      "\n",
      "Ye can customize the chat window to yer taste, add emojis and images, and even moderate yer chat. That way, no scallywags can sneak in and cause trouble on yer ship. And if ye need help, the ChatGPT API crew will be happy to assist ye.\n",
      "\n",
      "So, me hearties, if ye want to add a friendly chat to yer website or app, don't hesitate and give the ChatGPT API a try. It be a treasure chest full of possibilities! Savvy?\n"
     ]
    }
   ],
   "source": [
    "import os\n",
    "import openai\n",
    "openai.api_key = \"OpenAI API KEY\"\n",
    "\n",
    "completion = openai.ChatCompletion.create(\n",
    "  model=\"gpt-3.5-turbo\",\n",
    "  messages=[\n",
    "    {\"role\": \"user\", \"content\": \"Tell the world about the ChatGPT API in the style of a pirate.\"}\n",
    "  ]\n",
    ")\n",
    "\n",
    "print(completion.choices[0].message.content)"
   ]
  },
  {
   "cell_type": "code",
   "execution_count": null,
   "id": "be4db49f",
   "metadata": {},
   "outputs": [],
   "source": []
  }
 ],
 "metadata": {
  "kernelspec": {
   "display_name": "Python 3 (ipykernel)",
   "language": "python",
   "name": "python3"
  },
  "language_info": {
   "codemirror_mode": {
    "name": "ipython",
    "version": 3
   },
   "file_extension": ".py",
   "mimetype": "text/x-python",
   "name": "python",
   "nbconvert_exporter": "python",
   "pygments_lexer": "ipython3",
   "version": "3.11.3"
  }
 },
 "nbformat": 4,
 "nbformat_minor": 5
}
